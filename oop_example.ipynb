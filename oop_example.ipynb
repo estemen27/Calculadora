{
  "metadata": {
    "kernelspec": {
      "name": "python",
      "display_name": "Python (Pyodide)",
      "language": "python"
    },
    "language_info": {
      "codemirror_mode": {
        "name": "python",
        "version": 3
      },
      "file_extension": ".py",
      "mimetype": "text/x-python",
      "name": "python",
      "nbconvert_exporter": "python",
      "pygments_lexer": "ipython3",
      "version": "3.8"
    }
  },
  "nbformat_minor": 5,
  "nbformat": 4,
  "cells": [
    {
      "id": "0ffb5611-3d3b-40ce-b24b-200a14570ee9",
      "cell_type": "markdown",
      "source": "### OOP for Big Data\n#### Course: Big Data Tools\n#### Prof.: Hugo Franco, PhD",
      "metadata": {}
    },
    {
      "id": "ef634cf7-df39-4106-b19b-455e009b8bfe",
      "cell_type": "markdown",
      "source": "#### Class definition\nClasses in Python are defined online (as in Java) and their constructor is specified through the __init__ function that always uses the self parameter (pointer to the object itself). The attributes are defined from their initialization in the __init__ function.\nThe __str__ function provides a simple representation of the object, able to be used in standard output",
      "metadata": {}
    },
    {
      "id": "c1e2edaa-137b-4f27-a077-e0a3ef70e4e3",
      "cell_type": "code",
      "source": "import sys\nimport os\nsys.path.append('./calc') # change to the selected path in your configuration as necessary\nfrom Calculadora import Calculadora",
      "metadata": {
        "trusted": true
      },
      "outputs": [],
      "execution_count": null
    },
    {
      "id": "d8ee637b-ef4b-4dd0-9f35-94a7c640c1a6",
      "cell_type": "code",
      "source": "# Get the current working directory (if needed)\nprint(os.getcwd())",
      "metadata": {
        "trusted": true
      },
      "outputs": [],
      "execution_count": null
    },
    {
      "id": "4006c272-f5f3-4e42-bc32-815ae1ce8eaa",
      "cell_type": "code",
      "source": "calc=Calculadora(3.12,6.0,'+')",
      "metadata": {
        "trusted": true
      },
      "outputs": [],
      "execution_count": null
    },
    {
      "id": "40753556-77fa-49af-8cd8-2134b0368407",
      "cell_type": "code",
      "source": "calc.suma(4,7)",
      "metadata": {
        "trusted": true
      },
      "outputs": [],
      "execution_count": null
    },
    {
      "id": "9278262e-36d2-4bb8-a489-7b8eb9c5b8fc",
      "cell_type": "code",
      "source": "calc.division(5,0)",
      "metadata": {
        "trusted": true
      },
      "outputs": [],
      "execution_count": null
    },
    {
      "id": "0dbc2df4-03d2-404a-9760-bc362ae47a66",
      "cell_type": "code",
      "source": "calc.resta(3.28,0.9)",
      "metadata": {
        "trusted": true
      },
      "outputs": [],
      "execution_count": null
    },
    {
      "id": "3c971a46-ed8e-4ad6-b997-e773b62b183c",
      "cell_type": "code",
      "source": "print(calc)",
      "metadata": {
        "trusted": true
      },
      "outputs": [],
      "execution_count": null
    },
    {
      "id": "dc9d8aee-d5b0-4f5c-8c33-ae9610560cdc",
      "cell_type": "markdown",
      "source": "##### __Workshop__:\n\nChallenge 1: Refactoring the Constructor\nThe current __init__ method handles both attribute initialization and calculation logic. This violates the principle of a constructor, which should primarily set up the object's initial state.\n\nTask: Refactor the __init__ method so that it only initializes the operando1, operando2, and operacion attributes. Remove the conditional logic that performs a calculation upon object creation.\n\nHint: The goal is for Calculadora(5, 3, '+') to create an object with operando1=5, operando2=3, and operacion='+', but it should not print 8 until a method is explicitly called.\n\nChallenge 2: Consistency in Operations\nThe existing methods (suma, resta, multiplicacion, division) have an inconsistent behavior. The resta method sets the self.operacion attribute, but the others do not. This can lead to bugs, especially with the __str__ method.\n\nTask: Modify the suma, multiplicacion, and division methods so that they consistently set the self.operacion attribute to the appropriate symbol (+, *, /) before returning the result.\n\nChallenge 3: Improving the String Representation\nThe __str__ method is useful for a human-readable representation of the object. However, if you create a Calculadora object without specifying an operation, calling print(my_calculator) will fail.\n\nTask: Modify the __str__ method to handle cases where no operation has been performed yet. If self.operacion is None, the method should return a more descriptive message, such as \"Calculadora en espera\". Otherwise, it should return the current string representation.\n\nChallenge 4: Handling Single-Operand Operations\nMany calculators have functions that operate on a single number, such as squaring a number or finding its square root.\n\nTask: Add a new method, potencia(self, exponente), that calculates self.operando1 to the power of exponente. The method should update self.operacion and store the result.\n\nBonus: Add a raiz_cuadrada(self) method that calculates the square root of self.operando1. This method does not require a second operand. You will need to import the math module for this.\n\nChallenge 5: Method Chaining for Continuous Calculations\nCurrently, to perform a series of calculations, you would need to create a new Calculadora object or manually update its operands. A more elegant solution is to allow method chaining, where each operation can be followed by another.\n\nTask: Modify the suma, resta, multiplicacion, and division methods to return the self object instead of the calculated result. The calculated result should be stored in self.operando1 so it can be used for the next operation.\n\nExample Usage: After this change, the following code should work:\n\ncalc = Calculadora(10)\nresult = calc.suma(5).multiplicacion(2)\nprint(result.operando1) # Should print 30\n\nChallenge 6: Building a CalculadoraCientifica with Inheritance\nInheritance is a fundamental concept in object-oriented programming. It allows us to create a new class that reuses the code from an existing one.\n\nTask: Create a new class named CalculadoraCientifica that inherits from Calculadora. This new class should be able to perform all the basic operations of its parent class, but it should also include a new method: seno(self). This method should calculate the sine of self.operando1 (assuming it is in radians) and store the result.\n\nBonus: Add methods for coseno(self) and tangente(self).\n\nChallenge 7: Robust Error Handling\nThe current code only handles ZeroDivisionError. What if a user tries to perform a calculation with non-numeric inputs, like strings?\n\nTask: Wrap the calculation logic within each of the core methods (suma, resta, multiplicacion, division) with a try...except block. Catch a TypeError and, in case of an error, print a message explaining that the operands must be numeric and return None.\n\nHint: The try...except block should be placed around the line where the actual calculation happens, e.g., return self.operando1 + self.operando2.",
      "metadata": {}
    },
    {
      "id": "6f61d0ab-ccfb-47f9-abed-5a53a3c48816",
      "cell_type": "markdown",
      "source": "#### Runtime type checking\nSince Python is an interpreted language, runtime type checking is simple and allows to control the code execution according to the type of the parameters and variables\nIn Python, all data types, even the base types of the language, are classes. ",
      "metadata": {}
    },
    {
      "id": "1b016a1d-2692-48f2-973f-5147fcabea4b",
      "cell_type": "code",
      "source": "# Type checking can be performed on both literals and variables\nflag=False\nlength=22.32320\ncaracter='^'\nprint(type(2))         # returns 'int'\nprint(type(length))    # returns 'float'\n\n# In Python, strings and chars are the same\nprint(type(caracter))         # retorna 'str'\nprint(type('two'))     # returns 'str'\nprint(type(flag))      # returns 'bool'\nprint(type(True))      # returns 'bool'\n\n# None is of type NoneType (useful for undefined values)\nprint(type(None))      # returns 'NoneType'\n\nif type(length) is int or type(length) is float:\n    print(\"Is a number\")\nelse:\n    print(\"Is not a number\")",
      "metadata": {
        "trusted": true
      },
      "outputs": [],
      "execution_count": null
    }
  ]
}